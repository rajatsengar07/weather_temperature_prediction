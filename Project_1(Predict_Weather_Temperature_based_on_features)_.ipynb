{
  "cells": [
    {
      "cell_type": "markdown",
      "metadata": {
        "id": "3viG-fYDpRdQ"
      },
      "source": [
        "# **Importing the necessary libraries**"
      ]
    },
    {
      "cell_type": "code",
      "execution_count": null,
      "metadata": {
        "id": "SxzRSKnQpjFb"
      },
      "outputs": [],
      "source": [
        "import requests\n",
        "import json\n",
        "import numpy as np\n",
        "import pandas as pd\n",
        "from sklearn.model_selection import train_test_split\n",
        "from sklearn.linear_model import LinearRegression\n",
        "from sklearn.metrics import mean_squared_error, r2_score\n",
        "import matplotlib.pyplot as plt\n",
        "from scipy import stats"
      ]
    },
    {
      "cell_type": "markdown",
      "metadata": {
        "id": "7soizV-Krs2H"
      },
      "source": [
        "#**Fetched Data from API**\n",
        "We are using the Open Weather Map API to fetch weather data for the different cities and using for loop to extracting weather data for different cities."
      ]
    },
    {
      "cell_type": "code",
      "execution_count": null,
      "metadata": {
        "colab": {
          "base_uri": "https://localhost:8080/"
        },
        "id": "bvkSdPcOp9Bi",
        "outputId": "e8036127-e53d-4eb5-d65d-02d7d0083de7"
      },
      "outputs": [
        {
          "data": {
            "text/plain": [
              "[{'message': 'You have exceeded the MONTHLY quota for Requests on your current plan, BASIC. Upgrade your plan at https://rapidapi.com/worldapi/api/open-weather13'},\n",
              " {'message': 'You have exceeded the MONTHLY quota for Requests on your current plan, BASIC. Upgrade your plan at https://rapidapi.com/worldapi/api/open-weather13'},\n",
              " {'message': 'You have exceeded the MONTHLY quota for Requests on your current plan, BASIC. Upgrade your plan at https://rapidapi.com/worldapi/api/open-weather13'},\n",
              " {'message': 'You have exceeded the MONTHLY quota for Requests on your current plan, BASIC. Upgrade your plan at https://rapidapi.com/worldapi/api/open-weather13'},\n",
              " {'message': 'You have exceeded the MONTHLY quota for Requests on your current plan, BASIC. Upgrade your plan at https://rapidapi.com/worldapi/api/open-weather13'},\n",
              " {'message': 'You have exceeded the MONTHLY quota for Requests on your current plan, BASIC. Upgrade your plan at https://rapidapi.com/worldapi/api/open-weather13'},\n",
              " {'message': 'You have exceeded the MONTHLY quota for Requests on your current plan, BASIC. Upgrade your plan at https://rapidapi.com/worldapi/api/open-weather13'},\n",
              " {'message': 'You have exceeded the MONTHLY quota for Requests on your current plan, BASIC. Upgrade your plan at https://rapidapi.com/worldapi/api/open-weather13'},\n",
              " {'message': 'You have exceeded the MONTHLY quota for Requests on your current plan, BASIC. Upgrade your plan at https://rapidapi.com/worldapi/api/open-weather13'},\n",
              " {'message': 'You have exceeded the MONTHLY quota for Requests on your current plan, BASIC. Upgrade your plan at https://rapidapi.com/worldapi/api/open-weather13'},\n",
              " {'message': 'You have exceeded the MONTHLY quota for Requests on your current plan, BASIC. Upgrade your plan at https://rapidapi.com/worldapi/api/open-weather13'},\n",
              " {'message': 'You have exceeded the MONTHLY quota for Requests on your current plan, BASIC. Upgrade your plan at https://rapidapi.com/worldapi/api/open-weather13'},\n",
              " {'message': 'You have exceeded the MONTHLY quota for Requests on your current plan, BASIC. Upgrade your plan at https://rapidapi.com/worldapi/api/open-weather13'}]"
            ]
          },
          "execution_count": 2,
          "metadata": {},
          "output_type": "execute_result"
        }
      ],
      "source": [
        "\n",
        "cities = [\n",
        "    'Agra',\n",
        "    'Ahmedabad',\n",
        "    'Aligarh',\n",
        "    'Allahabad',\n",
        "    'Alwar',\n",
        "    'Amritsar',\n",
        "    'Bengaluru',\n",
        "    'Bhavnagar',\n",
        "    'Bhopal',\n",
        "    'Bhubaneswar',\n",
        "    'Bhuj',\n",
        "    'Chandigarh',\n",
        "    'Chennai']\n",
        "api_key = \"Your api key\"\n",
        "headers= {\n",
        "    'X-RapidAPI-Key': api_key,\n",
        "    'X-RapidAPI-Host': 'open-weather13.p.rapidapi.com'\n",
        "  }\n",
        "response_array = []\n",
        "for city in cities:\n",
        "    url =  f'https://open-weather13.p.rapidapi.com/city/{city}'\n",
        "    response = requests.get(url, headers=headers)\n",
        "    data = response.json()\n",
        "    response_array.append(data)\n",
        "response_array"
      ]
    },
    {
      "cell_type": "markdown",
      "metadata": {
        "id": "rYVK3EzkspyE"
      },
      "source": [
        "Now saving the extracting data in a variable 'new_data'"
      ]
    },
    {
      "cell_type": "code",
      "execution_count": null,
      "metadata": {
        "id": "hCXDXzM9sa_M"
      },
      "outputs": [],
      "source": [
        "new_data =[{'coord': {'lon': 78.0167, 'lat': 27.1833},\n",
        "  'weather': [{'id': 804,\n",
        "    'main': 'Clouds',\n",
        "    'description': 'overcast clouds',\n",
        "    'icon': '04d'}],\n",
        "  'base': 'stations',\n",
        "  'main': {'temp': 89.96,\n",
        "   'feels_like': 102.56,\n",
        "   'temp_min': 89.96,\n",
        "   'temp_max': 89.96,\n",
        "   'pressure': 1000,\n",
        "   'humidity': 67,\n",
        "   'sea_level': 1000,\n",
        "   'grnd_level': 981},\n",
        "  'visibility': 10000,\n",
        "  'wind': {'speed': 11.27, 'deg': 255, 'gust': 15.46},\n",
        "  'clouds': {'all': 100},\n",
        "  'dt': 1691233213,\n",
        "  'sys': {'country': 'IN', 'sunrise': 1691194417, 'sunset': 1691242460},\n",
        "  'timezone': 19800,\n",
        "  'id': 1279259,\n",
        "  'name': 'Agra',\n",
        "  'cod': 200},\n",
        " {'coord': {'lon': 72.6167, 'lat': 23.0333},\n",
        "  'weather': [{'id': 721,\n",
        "    'main': 'Haze',\n",
        "    'description': 'haze',\n",
        "    'icon': '50d'}],\n",
        "  'base': 'stations',\n",
        "  'main': {'temp': 87.84,\n",
        "   'feels_like': 99.77,\n",
        "   'temp_min': 87.84,\n",
        "   'temp_max': 87.84,\n",
        "   'pressure': 1004,\n",
        "   'humidity': 70},\n",
        "  'visibility': 5000,\n",
        "  'wind': {'speed': 6.91, 'deg': 260},\n",
        "  'clouds': {'all': 75},\n",
        "  'dt': 1691233202,\n",
        "  'sys': {'type': 1,\n",
        "   'id': 9049,\n",
        "   'country': 'IN',\n",
        "   'sunrise': 1691196101,\n",
        "   'sunset': 1691243368},\n",
        "  'timezone': 19800,\n",
        "  'id': 1279233,\n",
        "  'name': 'Ahmedabad',\n",
        "  'cod': 200},\n",
        " {'coord': {'lon': 78.0833, 'lat': 27.8833},\n",
        "  'weather': [{'id': 804,\n",
        "    'main': 'Clouds',\n",
        "    'description': 'overcast clouds',\n",
        "    'icon': '04d'}],\n",
        "  'base': 'stations',\n",
        "  'main': {'temp': 92.64,\n",
        "   'feels_like': 105.24,\n",
        "   'temp_min': 92.64,\n",
        "   'temp_max': 92.64,\n",
        "   'pressure': 999,\n",
        "   'humidity': 63,\n",
        "   'sea_level': 999,\n",
        "   'grnd_level': 978},\n",
        "  'visibility': 10000,\n",
        "  'wind': {'speed': 4.36, 'deg': 125, 'gust': 3.83},\n",
        "  'clouds': {'all': 100},\n",
        "  'dt': 1691233212,\n",
        "  'sys': {'country': 'IN', 'sunrise': 1691194333, 'sunset': 1691242512},\n",
        "  'timezone': 19800,\n",
        "  'id': 1279017,\n",
        "  'name': 'Aligarh',\n",
        "  'cod': 200},\n",
        " {'coord': {'lon': 81.85, 'lat': 25.45},\n",
        "  'weather': [{'id': 804,\n",
        "    'main': 'Clouds',\n",
        "    'description': 'overcast clouds',\n",
        "    'icon': '04d'}],\n",
        "  'base': 'stations',\n",
        "  'main': {'temp': 89.01,\n",
        "   'feels_like': 101.61,\n",
        "   'temp_min': 89.01,\n",
        "   'temp_max': 89.01,\n",
        "   'pressure': 999,\n",
        "   'humidity': 69,\n",
        "   'sea_level': 999,\n",
        "   'grnd_level': 988},\n",
        "  'visibility': 5813,\n",
        "  'wind': {'speed': 6.76, 'deg': 253, 'gust': 7.7},\n",
        "  'clouds': {'all': 100},\n",
        "  'dt': 1691233266,\n",
        "  'sys': {'country': 'IN', 'sunrise': 1691193662, 'sunset': 1691241375},\n",
        "  'timezone': 19800,\n",
        "  'id': 1278994,\n",
        "  'name': 'Allahabad',\n",
        "  'cod': 200},\n",
        " {'coord': {'lon': 76.6, 'lat': 27.5667},\n",
        "  'weather': [{'id': 804,\n",
        "    'main': 'Clouds',\n",
        "    'description': 'overcast clouds',\n",
        "    'icon': '04d'}],\n",
        "  'base': 'stations',\n",
        "  'main': {'temp': 92.34,\n",
        "   'feels_like': 104.2,\n",
        "   'temp_min': 92.34,\n",
        "   'temp_max': 92.34,\n",
        "   'pressure': 1000,\n",
        "   'humidity': 58,\n",
        "   'sea_level': 1000,\n",
        "   'grnd_level': 969},\n",
        "  'visibility': 10000,\n",
        "  'wind': {'speed': 7.49, 'deg': 232, 'gust': 10.4},\n",
        "  'clouds': {'all': 100},\n",
        "  'dt': 1691233267,\n",
        "  'sys': {'country': 'IN', 'sunrise': 1691194720, 'sunset': 1691242837},\n",
        "  'timezone': 19800,\n",
        "  'id': 1278946,\n",
        "  'name': 'Alwar',\n",
        "  'cod': 200},\n",
        " {'coord': {'lon': 74.8656, 'lat': 31.6331},\n",
        "  'weather': [{'id': 701,\n",
        "    'main': 'Mist',\n",
        "    'description': 'mist',\n",
        "    'icon': '50d'}],\n",
        "  'base': 'stations',\n",
        "  'main': {'temp': 93.15,\n",
        "   'feels_like': 105.75,\n",
        "   'temp_min': 93.15,\n",
        "   'temp_max': 94.82,\n",
        "   'pressure': 1001,\n",
        "   'humidity': 75},\n",
        "  'visibility': 4000,\n",
        "  'wind': {'speed': 5.75, 'deg': 290},\n",
        "  'clouds': {'all': 75},\n",
        "  'dt': 1691233268,\n",
        "  'sys': {'type': 1,\n",
        "   'id': 9157,\n",
        "   'country': 'IN',\n",
        "   'sunrise': 1691194721,\n",
        "   'sunset': 1691243668},\n",
        "  'timezone': 19800,\n",
        "  'id': 1278710,\n",
        "  'name': 'Amritsar',\n",
        "  'cod': 200},\n",
        " {'coord': {'lon': 77.6033, 'lat': 12.9762},\n",
        "  'weather': [{'id': 802,\n",
        "    'main': 'Clouds',\n",
        "    'description': 'scattered clouds',\n",
        "    'icon': '03d'}],\n",
        "  'base': 'stations',\n",
        "  'main': {'temp': 82.96,\n",
        "   'feels_like': 85.86,\n",
        "   'temp_min': 80.85,\n",
        "   'temp_max': 85.64,\n",
        "   'pressure': 1015,\n",
        "   'humidity': 60},\n",
        "  'visibility': 8000,\n",
        "  'wind': {'speed': 11.5, 'deg': 260},\n",
        "  'clouds': {'all': 40},\n",
        "  'dt': 1691232950,\n",
        "  'sys': {'type': 2,\n",
        "   'id': 2017753,\n",
        "   'country': 'IN',\n",
        "   'sunrise': 1691195747,\n",
        "   'sunset': 1691241329},\n",
        "  'timezone': 19800,\n",
        "  'id': 1277333,\n",
        "  'name': 'Bengaluru',\n",
        "  'cod': 200},\n",
        " {'coord': {'lon': 72.15, 'lat': 21.7667},\n",
        "  'weather': [{'id': 804,\n",
        "    'main': 'Clouds',\n",
        "    'description': 'overcast clouds',\n",
        "    'icon': '04d'}],\n",
        "  'base': 'stations',\n",
        "  'main': {'temp': 88.29,\n",
        "   'feels_like': 96.73,\n",
        "   'temp_min': 88.29,\n",
        "   'temp_max': 88.29,\n",
        "   'pressure': 1005,\n",
        "   'humidity': 62,\n",
        "   'sea_level': 1005,\n",
        "   'grnd_level': 1002},\n",
        "  'visibility': 10000,\n",
        "  'wind': {'speed': 16.46, 'deg': 240, 'gust': 19.73},\n",
        "  'clouds': {'all': 93},\n",
        "  'dt': 1691233269,\n",
        "  'sys': {'country': 'IN', 'sunrise': 1691196326, 'sunset': 1691243367},\n",
        "  'timezone': 19800,\n",
        "  'id': 1276032,\n",
        "  'name': 'Bhavnagar',\n",
        "  'cod': 200},\n",
        " {'coord': {'lon': 77.4, 'lat': 23.2667},\n",
        "  'weather': [{'id': 721,\n",
        "    'main': 'Haze',\n",
        "    'description': 'haze',\n",
        "    'icon': '50d'}],\n",
        "  'base': 'stations',\n",
        "  'main': {'temp': 79.03,\n",
        "   'feels_like': 79.03,\n",
        "   'temp_min': 79.03,\n",
        "   'temp_max': 79.03,\n",
        "   'pressure': 1007,\n",
        "   'humidity': 89},\n",
        "  'visibility': 5000,\n",
        "  'wind': {'speed': 10.36, 'deg': 300},\n",
        "  'clouds': {'all': 75},\n",
        "  'dt': 1691233212,\n",
        "  'sys': {'type': 1,\n",
        "   'id': 9063,\n",
        "   'country': 'IN',\n",
        "   'sunrise': 1691194931,\n",
        "   'sunset': 1691242241},\n",
        "  'timezone': 19800,\n",
        "  'id': 1275841,\n",
        "  'name': 'Bhopal',\n",
        "  'cod': 200},\n",
        " {'coord': {'lon': 85.8333, 'lat': 20.2333},\n",
        "  'weather': [{'id': 200,\n",
        "    'main': 'Thunderstorm',\n",
        "    'description': 'thunderstorm with light rain',\n",
        "    'icon': '11d'},\n",
        "   {'id': 500, 'main': 'Rain', 'description': 'light rain', 'icon': '10d'}],\n",
        "  'base': 'stations',\n",
        "  'main': {'temp': 80.82,\n",
        "   'feels_like': 88.77,\n",
        "   'temp_min': 80.82,\n",
        "   'temp_max': 80.82,\n",
        "   'pressure': 1003,\n",
        "   'humidity': 94},\n",
        "  'visibility': 3000,\n",
        "  'wind': {'speed': 4.61, 'deg': 180},\n",
        "  'rain': {'1h': 0.8},\n",
        "  'clouds': {'all': 100},\n",
        "  'dt': 1691233271,\n",
        "  'sys': {'type': 1,\n",
        "   'id': 9113,\n",
        "   'country': 'IN',\n",
        "   'sunrise': 1691193174,\n",
        "   'sunset': 1691239951},\n",
        "  'timezone': 19800,\n",
        "  'id': 1275817,\n",
        "  'name': 'Bhubaneswar',\n",
        "  'cod': 200},\n",
        " {'coord': {'lon': 69.6667, 'lat': 23.2667},\n",
        "  'weather': [{'id': 803,\n",
        "    'main': 'Clouds',\n",
        "    'description': 'broken clouds',\n",
        "    'icon': '04d'}],\n",
        "  'base': 'stations',\n",
        "  'main': {'temp': 88.65,\n",
        "   'feels_like': 96.08,\n",
        "   'temp_min': 88.65,\n",
        "   'temp_max': 88.65,\n",
        "   'pressure': 1003,\n",
        "   'humidity': 59,\n",
        "   'sea_level': 1003,\n",
        "   'grnd_level': 994},\n",
        "  'visibility': 10000,\n",
        "  'wind': {'speed': 19.98, 'deg': 244, 'gust': 21.5},\n",
        "  'clouds': {'all': 59},\n",
        "  'dt': 1691233239,\n",
        "  'sys': {'country': 'IN', 'sunrise': 1691196788, 'sunset': 1691244097},\n",
        "  'timezone': 19800,\n",
        "  'id': 1275812,\n",
        "  'name': 'Bhuj',\n",
        "  'cod': 200},\n",
        " {'coord': {'lon': 76.7933, 'lat': 30.7343},\n",
        "  'weather': [{'id': 803,\n",
        "    'main': 'Clouds',\n",
        "    'description': 'broken clouds',\n",
        "    'icon': '04d'}],\n",
        "  'base': 'stations',\n",
        "  'main': {'temp': 95.7,\n",
        "   'feels_like': 106.16,\n",
        "   'temp_min': 95.7,\n",
        "   'temp_max': 95.7,\n",
        "   'pressure': 999,\n",
        "   'humidity': 49,\n",
        "   'sea_level': 999,\n",
        "   'grnd_level': 961},\n",
        "  'visibility': 10000,\n",
        "  'wind': {'speed': 8.34, 'deg': 306, 'gust': 9.86},\n",
        "  'clouds': {'all': 55},\n",
        "  'dt': 1691233234,\n",
        "  'sys': {'country': 'IN', 'sunrise': 1691194353, 'sunset': 1691243111},\n",
        "  'timezone': 19800,\n",
        "  'id': 1274746,\n",
        "  'name': 'Chandigarh',\n",
        "  'cod': 200},\n",
        " {'coord': {'lon': 80.2785, 'lat': 13.0878},\n",
        "  'weather': [{'id': 802,\n",
        "    'main': 'Clouds',\n",
        "    'description': 'scattered clouds',\n",
        "    'icon': '03d'}],\n",
        "  'base': 'stations',\n",
        "  'main': {'temp': 89.96,\n",
        "   'feels_like': 102.56,\n",
        "   'temp_min': 89.96,\n",
        "   'temp_max': 93.18,\n",
        "   'pressure': 1011,\n",
        "   'humidity': 75},\n",
        "  'visibility': 6000,\n",
        "  'wind': {'speed': 16.11, 'deg': 120},\n",
        "  'clouds': {'all': 40},\n",
        "  'dt': 1691233226,\n",
        "  'sys': {'type': 2,\n",
        "   'id': 2012809,\n",
        "   'country': 'IN',\n",
        "   'sunrise': 1691195096,\n",
        "   'sunset': 1691240696},\n",
        "  'timezone': 19800,\n",
        "  'id': 1264527,\n",
        "  'name': 'Chennai',\n",
        "  'cod': 200}]"
      ]
    },
    {
      "cell_type": "markdown",
      "metadata": {
        "id": "-neMVoKRtPFC"
      },
      "source": [
        "Now appending the data in a list called final_data.\n",
        "Using this list we created the data frame in Pandas with required features (Humidity,\tPressure,\twind_speed,\tCloudiness,\tTemperature)."
      ]
    },
    {
      "cell_type": "markdown",
      "metadata": {
        "id": "rk5xzrZ-q-sA"
      },
      "source": [
        "#**Key Performance Indicators (KPIs) on selected data**\n",
        "Here's a set of KPIs specifically focused on the variables we have selected (Humidity, Pressure, Wind Speed, Cloudiness) to predict temperature:\n",
        "\n",
        "**1. Temperature-Humidity Relationship:** The humidity level does not actually affect the temperature. Rather, humidity will affect the perception of temperature. At higher humidity levels, air will feel warmer, and at lower humidity levels, air will feel cooler. This is commonly expressed as the heat index, which indicates that the temperature will seem higher as humidity increases\n",
        "\n",
        "**2. Temperature-Pressure Relationship:**The relationship between pressure and temperature is described with respect to gases. Gay-Lussac’s law is the gas law that describes the pressure-temperature relationship. It states that, at a constant volume, the pressure of a given amount of a particular gas is directly proportional to its Kelvin temperature. It can be written as:\n",
        "\n",
        "P ∝ T, or\n",
        "P/T = k where k is a constant, or\n",
        "P1/T1 = P2/T2\n",
        "\n",
        "**3. Temperature-wind_speed Relationship:** Temperature and wind speed are interconnected factors in the atmosphere. Temperature differences create pressure gradients that drive wind, and wind can in turn influence temperature through advection and enhanced heat transfer.\n",
        "\n",
        "**4. Temperature-Cloudiness Relationship:** However, if skies are cloudy, some of the sun's rays are reflected off the cloud droplets back into space. Therefore, less of the sun's energy is able to reach the earth's surface, which causes the earth to heat up more slowly. This leads to cooler temperatures.\n",
        "\n"
      ]
    },
    {
      "cell_type": "code",
      "execution_count": null,
      "metadata": {
        "colab": {
          "base_uri": "https://localhost:8080/",
          "height": 457
        },
        "id": "BcBFF2oktsK0",
        "outputId": "7af2446c-d7a3-4b82-b475-38f217ce6bd7"
      },
      "outputs": [
        {
          "data": {
            "text/html": [
              "\n",
              "\n",
              "  <div id=\"df-f2764f82-caa1-4cfe-b231-40c18e72641f\">\n",
              "    <div class=\"colab-df-container\">\n",
              "      <div>\n",
              "<style scoped>\n",
              "    .dataframe tbody tr th:only-of-type {\n",
              "        vertical-align: middle;\n",
              "    }\n",
              "\n",
              "    .dataframe tbody tr th {\n",
              "        vertical-align: top;\n",
              "    }\n",
              "\n",
              "    .dataframe thead th {\n",
              "        text-align: right;\n",
              "    }\n",
              "</style>\n",
              "<table border=\"1\" class=\"dataframe\">\n",
              "  <thead>\n",
              "    <tr style=\"text-align: right;\">\n",
              "      <th></th>\n",
              "      <th>city</th>\n",
              "      <th>Humidity</th>\n",
              "      <th>Pressure</th>\n",
              "      <th>wind_speed</th>\n",
              "      <th>Cloudiness</th>\n",
              "      <th>Temperature</th>\n",
              "    </tr>\n",
              "  </thead>\n",
              "  <tbody>\n",
              "    <tr>\n",
              "      <th>0</th>\n",
              "      <td>Agra</td>\n",
              "      <td>67</td>\n",
              "      <td>1000</td>\n",
              "      <td>11.27</td>\n",
              "      <td>100</td>\n",
              "      <td>89.96</td>\n",
              "    </tr>\n",
              "    <tr>\n",
              "      <th>1</th>\n",
              "      <td>Ahmedabad</td>\n",
              "      <td>70</td>\n",
              "      <td>1004</td>\n",
              "      <td>6.91</td>\n",
              "      <td>75</td>\n",
              "      <td>87.84</td>\n",
              "    </tr>\n",
              "    <tr>\n",
              "      <th>2</th>\n",
              "      <td>Aligarh</td>\n",
              "      <td>63</td>\n",
              "      <td>999</td>\n",
              "      <td>4.36</td>\n",
              "      <td>100</td>\n",
              "      <td>92.64</td>\n",
              "    </tr>\n",
              "    <tr>\n",
              "      <th>3</th>\n",
              "      <td>Allahabad</td>\n",
              "      <td>69</td>\n",
              "      <td>999</td>\n",
              "      <td>6.76</td>\n",
              "      <td>100</td>\n",
              "      <td>89.01</td>\n",
              "    </tr>\n",
              "    <tr>\n",
              "      <th>4</th>\n",
              "      <td>Alwar</td>\n",
              "      <td>58</td>\n",
              "      <td>1000</td>\n",
              "      <td>7.49</td>\n",
              "      <td>100</td>\n",
              "      <td>92.34</td>\n",
              "    </tr>\n",
              "    <tr>\n",
              "      <th>5</th>\n",
              "      <td>Amritsar</td>\n",
              "      <td>75</td>\n",
              "      <td>1001</td>\n",
              "      <td>5.75</td>\n",
              "      <td>75</td>\n",
              "      <td>93.15</td>\n",
              "    </tr>\n",
              "    <tr>\n",
              "      <th>6</th>\n",
              "      <td>Bengaluru</td>\n",
              "      <td>60</td>\n",
              "      <td>1015</td>\n",
              "      <td>11.50</td>\n",
              "      <td>40</td>\n",
              "      <td>82.96</td>\n",
              "    </tr>\n",
              "    <tr>\n",
              "      <th>7</th>\n",
              "      <td>Bhavnagar</td>\n",
              "      <td>62</td>\n",
              "      <td>1005</td>\n",
              "      <td>16.46</td>\n",
              "      <td>93</td>\n",
              "      <td>88.29</td>\n",
              "    </tr>\n",
              "    <tr>\n",
              "      <th>8</th>\n",
              "      <td>Bhopal</td>\n",
              "      <td>89</td>\n",
              "      <td>1007</td>\n",
              "      <td>10.36</td>\n",
              "      <td>75</td>\n",
              "      <td>79.03</td>\n",
              "    </tr>\n",
              "    <tr>\n",
              "      <th>9</th>\n",
              "      <td>Bhubaneswar</td>\n",
              "      <td>94</td>\n",
              "      <td>1003</td>\n",
              "      <td>4.61</td>\n",
              "      <td>100</td>\n",
              "      <td>80.82</td>\n",
              "    </tr>\n",
              "    <tr>\n",
              "      <th>10</th>\n",
              "      <td>Bhuj</td>\n",
              "      <td>59</td>\n",
              "      <td>1003</td>\n",
              "      <td>19.98</td>\n",
              "      <td>59</td>\n",
              "      <td>88.65</td>\n",
              "    </tr>\n",
              "    <tr>\n",
              "      <th>11</th>\n",
              "      <td>Chandigarh</td>\n",
              "      <td>49</td>\n",
              "      <td>999</td>\n",
              "      <td>8.34</td>\n",
              "      <td>55</td>\n",
              "      <td>95.70</td>\n",
              "    </tr>\n",
              "    <tr>\n",
              "      <th>12</th>\n",
              "      <td>Chennai</td>\n",
              "      <td>75</td>\n",
              "      <td>1011</td>\n",
              "      <td>16.11</td>\n",
              "      <td>40</td>\n",
              "      <td>89.96</td>\n",
              "    </tr>\n",
              "  </tbody>\n",
              "</table>\n",
              "</div>\n",
              "      <button class=\"colab-df-convert\" onclick=\"convertToInteractive('df-f2764f82-caa1-4cfe-b231-40c18e72641f')\"\n",
              "              title=\"Convert this dataframe to an interactive table.\"\n",
              "              style=\"display:none;\">\n",
              "\n",
              "  <svg xmlns=\"http://www.w3.org/2000/svg\" height=\"24px\"viewBox=\"0 0 24 24\"\n",
              "       width=\"24px\">\n",
              "    <path d=\"M0 0h24v24H0V0z\" fill=\"none\"/>\n",
              "    <path d=\"M18.56 5.44l.94 2.06.94-2.06 2.06-.94-2.06-.94-.94-2.06-.94 2.06-2.06.94zm-11 1L8.5 8.5l.94-2.06 2.06-.94-2.06-.94L8.5 2.5l-.94 2.06-2.06.94zm10 10l.94 2.06.94-2.06 2.06-.94-2.06-.94-.94-2.06-.94 2.06-2.06.94z\"/><path d=\"M17.41 7.96l-1.37-1.37c-.4-.4-.92-.59-1.43-.59-.52 0-1.04.2-1.43.59L10.3 9.45l-7.72 7.72c-.78.78-.78 2.05 0 2.83L4 21.41c.39.39.9.59 1.41.59.51 0 1.02-.2 1.41-.59l7.78-7.78 2.81-2.81c.8-.78.8-2.07 0-2.86zM5.41 20L4 18.59l7.72-7.72 1.47 1.35L5.41 20z\"/>\n",
              "  </svg>\n",
              "      </button>\n",
              "\n",
              "\n",
              "\n",
              "    <div id=\"df-21861e4a-b3af-43c6-84e9-d8b9c291abbb\">\n",
              "      <button class=\"colab-df-quickchart\" onclick=\"quickchart('df-21861e4a-b3af-43c6-84e9-d8b9c291abbb')\"\n",
              "              title=\"Suggest charts.\"\n",
              "              style=\"display:none;\">\n",
              "\n",
              "<svg xmlns=\"http://www.w3.org/2000/svg\" height=\"24px\"viewBox=\"0 0 24 24\"\n",
              "     width=\"24px\">\n",
              "    <g>\n",
              "        <path d=\"M19 3H5c-1.1 0-2 .9-2 2v14c0 1.1.9 2 2 2h14c1.1 0 2-.9 2-2V5c0-1.1-.9-2-2-2zM9 17H7v-7h2v7zm4 0h-2V7h2v10zm4 0h-2v-4h2v4z\"/>\n",
              "    </g>\n",
              "</svg>\n",
              "      </button>\n",
              "    </div>\n",
              "\n",
              "<style>\n",
              "  .colab-df-quickchart {\n",
              "    background-color: #E8F0FE;\n",
              "    border: none;\n",
              "    border-radius: 50%;\n",
              "    cursor: pointer;\n",
              "    display: none;\n",
              "    fill: #1967D2;\n",
              "    height: 32px;\n",
              "    padding: 0 0 0 0;\n",
              "    width: 32px;\n",
              "  }\n",
              "\n",
              "  .colab-df-quickchart:hover {\n",
              "    background-color: #E2EBFA;\n",
              "    box-shadow: 0px 1px 2px rgba(60, 64, 67, 0.3), 0px 1px 3px 1px rgba(60, 64, 67, 0.15);\n",
              "    fill: #174EA6;\n",
              "  }\n",
              "\n",
              "  [theme=dark] .colab-df-quickchart {\n",
              "    background-color: #3B4455;\n",
              "    fill: #D2E3FC;\n",
              "  }\n",
              "\n",
              "  [theme=dark] .colab-df-quickchart:hover {\n",
              "    background-color: #434B5C;\n",
              "    box-shadow: 0px 1px 3px 1px rgba(0, 0, 0, 0.15);\n",
              "    filter: drop-shadow(0px 1px 2px rgba(0, 0, 0, 0.3));\n",
              "    fill: #FFFFFF;\n",
              "  }\n",
              "</style>\n",
              "\n",
              "    <script>\n",
              "      async function quickchart(key) {\n",
              "        const containerElement = document.querySelector('#' + key);\n",
              "        const charts = await google.colab.kernel.invokeFunction(\n",
              "            'suggestCharts', [key], {});\n",
              "      }\n",
              "    </script>\n",
              "\n",
              "      <script>\n",
              "\n",
              "function displayQuickchartButton(domScope) {\n",
              "  let quickchartButtonEl =\n",
              "    domScope.querySelector('#df-21861e4a-b3af-43c6-84e9-d8b9c291abbb button.colab-df-quickchart');\n",
              "  quickchartButtonEl.style.display =\n",
              "    google.colab.kernel.accessAllowed ? 'block' : 'none';\n",
              "}\n",
              "\n",
              "        displayQuickchartButton(document);\n",
              "      </script>\n",
              "      <style>\n",
              "    .colab-df-container {\n",
              "      display:flex;\n",
              "      flex-wrap:wrap;\n",
              "      gap: 12px;\n",
              "    }\n",
              "\n",
              "    .colab-df-convert {\n",
              "      background-color: #E8F0FE;\n",
              "      border: none;\n",
              "      border-radius: 50%;\n",
              "      cursor: pointer;\n",
              "      display: none;\n",
              "      fill: #1967D2;\n",
              "      height: 32px;\n",
              "      padding: 0 0 0 0;\n",
              "      width: 32px;\n",
              "    }\n",
              "\n",
              "    .colab-df-convert:hover {\n",
              "      background-color: #E2EBFA;\n",
              "      box-shadow: 0px 1px 2px rgba(60, 64, 67, 0.3), 0px 1px 3px 1px rgba(60, 64, 67, 0.15);\n",
              "      fill: #174EA6;\n",
              "    }\n",
              "\n",
              "    [theme=dark] .colab-df-convert {\n",
              "      background-color: #3B4455;\n",
              "      fill: #D2E3FC;\n",
              "    }\n",
              "\n",
              "    [theme=dark] .colab-df-convert:hover {\n",
              "      background-color: #434B5C;\n",
              "      box-shadow: 0px 1px 3px 1px rgba(0, 0, 0, 0.15);\n",
              "      filter: drop-shadow(0px 1px 2px rgba(0, 0, 0, 0.3));\n",
              "      fill: #FFFFFF;\n",
              "    }\n",
              "  </style>\n",
              "\n",
              "      <script>\n",
              "        const buttonEl =\n",
              "          document.querySelector('#df-f2764f82-caa1-4cfe-b231-40c18e72641f button.colab-df-convert');\n",
              "        buttonEl.style.display =\n",
              "          google.colab.kernel.accessAllowed ? 'block' : 'none';\n",
              "\n",
              "        async function convertToInteractive(key) {\n",
              "          const element = document.querySelector('#df-f2764f82-caa1-4cfe-b231-40c18e72641f');\n",
              "          const dataTable =\n",
              "            await google.colab.kernel.invokeFunction('convertToInteractive',\n",
              "                                                     [key], {});\n",
              "          if (!dataTable) return;\n",
              "\n",
              "          const docLinkHtml = 'Like what you see? Visit the ' +\n",
              "            '<a target=\"_blank\" href=https://colab.research.google.com/notebooks/data_table.ipynb>data table notebook</a>'\n",
              "            + ' to learn more about interactive tables.';\n",
              "          element.innerHTML = '';\n",
              "          dataTable['output_type'] = 'display_data';\n",
              "          await google.colab.output.renderOutput(dataTable, element);\n",
              "          const docLink = document.createElement('div');\n",
              "          docLink.innerHTML = docLinkHtml;\n",
              "          element.appendChild(docLink);\n",
              "        }\n",
              "      </script>\n",
              "    </div>\n",
              "  </div>\n"
            ],
            "text/plain": [
              "           city  Humidity  Pressure  wind_speed  Cloudiness  Temperature\n",
              "0          Agra        67      1000       11.27         100        89.96\n",
              "1     Ahmedabad        70      1004        6.91          75        87.84\n",
              "2       Aligarh        63       999        4.36         100        92.64\n",
              "3     Allahabad        69       999        6.76         100        89.01\n",
              "4         Alwar        58      1000        7.49         100        92.34\n",
              "5      Amritsar        75      1001        5.75          75        93.15\n",
              "6     Bengaluru        60      1015       11.50          40        82.96\n",
              "7     Bhavnagar        62      1005       16.46          93        88.29\n",
              "8        Bhopal        89      1007       10.36          75        79.03\n",
              "9   Bhubaneswar        94      1003        4.61         100        80.82\n",
              "10         Bhuj        59      1003       19.98          59        88.65\n",
              "11   Chandigarh        49       999        8.34          55        95.70\n",
              "12      Chennai        75      1011       16.11          40        89.96"
            ]
          },
          "execution_count": 4,
          "metadata": {},
          "output_type": "execute_result"
        }
      ],
      "source": [
        "final_data=[]\n",
        "for data in new_data:\n",
        "    final_data.append({\"city\":data[\"name\"],\"Humidity\":data['main']['humidity'],'Pressure':data['main']['pressure'],'wind_speed':data['wind']['speed'],'Cloudiness':data['clouds']['all'],\"Temperature\":data['main']['temp']})\n",
        "df=pd.DataFrame(final_data)\n",
        "df"
      ]
    },
    {
      "cell_type": "markdown",
      "metadata": {
        "id": "0En-ynGiwSlI"
      },
      "source": [
        "#**Scatter plot visualization between Humidity(HM) and Temperature(T) to check wheather it is best fit for linear regression or not.**"
      ]
    },
    {
      "cell_type": "code",
      "execution_count": null,
      "metadata": {
        "colab": {
          "base_uri": "https://localhost:8080/",
          "height": 430
        },
        "id": "F0iJl8h7uVn_",
        "outputId": "b95af86c-133d-440e-b5a7-96dda8a6b9ee"
      },
      "outputs": [
        {
          "data": {
            "image/png": "[encoded data removed]",
            "text/plain": [
              "<Figure size 640x480 with 1 Axes>"
            ]
          },
          "metadata": {},
          "output_type": "display_data"
        }
      ],
      "source": [
        "HM=df[\"Humidity\"]\n",
        "T=df[\"Temperature\"]\n",
        "slope, intercept, r, p, std_err = stats.linregress(HM, T)\n",
        "\n",
        "def myfunc(HM):\n",
        "  return slope * HM + intercept\n",
        "\n",
        "mymodel = list(map(myfunc, HM))\n",
        "\n",
        "plt.scatter(HM, T)\n",
        "plt.plot(HM, mymodel)\n",
        "plt.show()\n"
      ]
    },
    {
      "cell_type": "markdown",
      "metadata": {
        "id": "fbMWWszjy_yV"
      },
      "source": [
        "It is important to know how the relationship between the values of the x-axis and the values of the y-axis is, if there are no relationship the linear regression can not be used to predict anything.\n",
        "\n",
        "This relationship - the coefficient of correlation - is called r.\n",
        "\n",
        "The r value ranges from -1 to 1, where 0 means no relationship, and 1 (and -1) means 100% related.\n",
        "\n",
        "Python and the Scipy module will compute this value for us, all us have to do is feed it with the x-axis and y-axis values.\n",
        "#Now, we are checking\n",
        " **How well does my data fit in a linear regression**"
      ]
    },
    {
      "cell_type": "code",
      "execution_count": null,
      "metadata": {
        "colab": {
          "base_uri": "https://localhost:8080/"
        },
        "id": "KGozU4TSziLX",
        "outputId": "33cc4291-2f3a-47d7-9449-0775010a8010"
      },
      "outputs": [
        {
          "data": {
            "text/plain": [
              "-0.6895986654854849"
            ]
          },
          "execution_count": 6,
          "metadata": {},
          "output_type": "execute_result"
        }
      ],
      "source": [
        "HM=df[\"Humidity\"]\n",
        "T=df[\"Temperature\"]\n",
        "slope, intercept, r, p, std_err = stats.linregress(HM, T)\n",
        "r"
      ]
    },
    {
      "cell_type": "markdown",
      "metadata": {
        "id": "W5K03DsSzvRm"
      },
      "source": [
        "**The result -0.6895986654854849 shows that there is a relationship, not perfect, but it indicates that we could use linear regression in future predictions.**"
      ]
    },
    {
      "cell_type": "markdown",
      "metadata": {
        "id": "51DL3GFz07p7"
      },
      "source": [
        "#**Scatter plot visualization between Pressure(P) and Temperature(T) to check wheather it is best fit for linear regression or not.**"
      ]
    },
    {
      "cell_type": "code",
      "execution_count": null,
      "metadata": {
        "colab": {
          "base_uri": "https://localhost:8080/",
          "height": 430
        },
        "id": "czIvo0ye1cOb",
        "outputId": "ce7a6a86-0795-40d7-d0cf-63d6bac3d62f"
      },
      "outputs": [
        {
          "data": {
            "image/png": "[encoded data removed]",
            "text/plain": [
              "<Figure size 640x480 with 1 Axes>"
            ]
          },
          "metadata": {},
          "output_type": "display_data"
        }
      ],
      "source": [
        "P=df[\"Pressure\"]\n",
        "T=df[\"Temperature\"]\n",
        "slope, intercept, r, p, std_err = stats.linregress(P, T)\n",
        "\n",
        "def myfunc(P):\n",
        "  return slope * P + intercept\n",
        "\n",
        "mymodel = list(map(myfunc, P))\n",
        "\n",
        "plt.scatter(P, T)\n",
        "plt.plot(P, mymodel)\n",
        "plt.show()\n"
      ]
    },
    {
      "cell_type": "markdown",
      "metadata": {
        "id": "lySWSIAz18uA"
      },
      "source": [
        "**Now, we are checking\n",
        "How well does my data fit in a linear regression**"
      ]
    },
    {
      "cell_type": "code",
      "execution_count": null,
      "metadata": {
        "colab": {
          "base_uri": "https://localhost:8080/"
        },
        "id": "bEU0-AKX2JWh",
        "outputId": "0d8c9c95-b746-4cff-f248-571ecc45e0d2"
      },
      "outputs": [
        {
          "data": {
            "text/plain": [
              "-0.5685428283707521"
            ]
          },
          "execution_count": 8,
          "metadata": {},
          "output_type": "execute_result"
        }
      ],
      "source": [
        "P=df[\"Pressure\"]\n",
        "T=df[\"Temperature\"]\n",
        "slope, intercept, r, p, std_err = stats.linregress(P, T)\n",
        "r"
      ]
    },
    {
      "cell_type": "markdown",
      "metadata": {
        "id": "U5ny4BON2aVY"
      },
      "source": [
        "**The text result -0.6895986654854849 shows that there is a relationship, not perfect, but it indicates that we could use linear regression in future predictions.**"
      ]
    },
    {
      "cell_type": "markdown",
      "metadata": {
        "id": "2iP066cB2SLI"
      },
      "source": [
        "#**Scatter plot visualization between wind_speed(ws) and Temperature(T) to check wheather it is best for linear regression or not.**"
      ]
    },
    {
      "cell_type": "code",
      "execution_count": null,
      "metadata": {
        "colab": {
          "base_uri": "https://localhost:8080/",
          "height": 430
        },
        "id": "yzVejNkP22Wx",
        "outputId": "7a4ea4a2-7e59-4427-9bc6-00797bef5330"
      },
      "outputs": [
        {
          "data": {
            "image/png": "[encoded data removed]",
            "text/plain": [
              "<Figure size 640x480 with 1 Axes>"
            ]
          },
          "metadata": {},
          "output_type": "display_data"
        }
      ],
      "source": [
        "ws=df[\"wind_speed\"]\n",
        "T=df[\"Temperature\"]\n",
        "slope, intercept, r, p, std_err = stats.linregress(ws, T)\n",
        "\n",
        "def myfunc(ws):\n",
        "  return slope * ws + intercept\n",
        "\n",
        "mymodel = list(map(myfunc, ws))\n",
        "\n",
        "plt.scatter(ws, T)\n",
        "plt.plot(ws, mymodel)\n",
        "plt.show()"
      ]
    },
    {
      "cell_type": "markdown",
      "metadata": {
        "id": "NVrkrt7t3K2U"
      },
      "source": [
        "**Now, we are checking How well does my data fit in a linear regression**"
      ]
    },
    {
      "cell_type": "code",
      "execution_count": null,
      "metadata": {
        "colab": {
          "base_uri": "https://localhost:8080/"
        },
        "id": "UFlLV4zA3SVi",
        "outputId": "cb160097-8afa-4774-94dd-43f63d0f4ee6"
      },
      "outputs": [
        {
          "data": {
            "text/plain": [
              "-0.08175453867644679"
            ]
          },
          "execution_count": 10,
          "metadata": {},
          "output_type": "execute_result"
        }
      ],
      "source": [
        "ws=df[\"wind_speed\"]\n",
        "T=df[\"Temperature\"]\n",
        "slope, intercept, r, p, std_err = stats.linregress(ws, T)\n",
        "r"
      ]
    },
    {
      "cell_type": "markdown",
      "metadata": {
        "id": "9qsEF0723ZlP"
      },
      "source": [
        "**The text result -0.08175453867644679 shows that there is a relationship, not perfect, but it indicates that we could use linear regression in future predictions.**"
      ]
    },
    {
      "cell_type": "markdown",
      "metadata": {
        "id": "I44HCWJ73pJj"
      },
      "source": [
        "#**Scatter plot visualization between Cloudiness(Cl) and Temperature(T) to check wheather it is best for linear regression or not.**"
      ]
    },
    {
      "cell_type": "code",
      "execution_count": null,
      "metadata": {
        "colab": {
          "base_uri": "https://localhost:8080/",
          "height": 430
        },
        "id": "DgnkZ0Yj33xh",
        "outputId": "9aa666b9-c297-4434-a0b0-eecab885f857"
      },
      "outputs": [
        {
          "data": {
            "image/png": "[encoded data removed]",
            "text/plain": [
              "<Figure size 640x480 with 1 Axes>"
            ]
          },
          "metadata": {},
          "output_type": "display_data"
        }
      ],
      "source": [
        "Cl=df[\"Cloudiness\"]\n",
        "T=df[\"Temperature\"]\n",
        "slope, intercept, r, p, std_err = stats.linregress(Cl, T)\n",
        "\n",
        "def myfunc(Cl):\n",
        "  return slope * Cl + intercept\n",
        "\n",
        "mymodel = list(map(myfunc, Cl))\n",
        "\n",
        "plt.scatter(Cl, T)\n",
        "plt.plot(Cl, mymodel)\n",
        "plt.show()"
      ]
    },
    {
      "cell_type": "markdown",
      "metadata": {
        "id": "t78Qt9Ok4P4w"
      },
      "source": [
        "**Now, we are checking How well does my data fit in a linear regression**"
      ]
    },
    {
      "cell_type": "code",
      "execution_count": null,
      "metadata": {
        "colab": {
          "base_uri": "https://localhost:8080/"
        },
        "id": "2IV1M4kN4bXN",
        "outputId": "51fff194-81be-4e76-c4bb-7303f08f7d27"
      },
      "outputs": [
        {
          "data": {
            "text/plain": [
              "0.036428307890655626"
            ]
          },
          "execution_count": 12,
          "metadata": {},
          "output_type": "execute_result"
        }
      ],
      "source": [
        "Cl=df[\"Cloudiness\"]\n",
        "T=df[\"Temperature\"]\n",
        "slope, intercept, r, p, std_err = stats.linregress(Cl, T)\n",
        "r"
      ]
    },
    {
      "cell_type": "markdown",
      "metadata": {
        "id": "tdqlb1Pg4jXV"
      },
      "source": [
        "**The bold result 0.036428307890655626 shows that there is a relationship, not perfect, but it indicates that we could use linear regression in future predictions.**"
      ]
    },
    {
      "cell_type": "markdown",
      "metadata": {
        "id": "nHb0ExnjuqqK"
      },
      "source": [
        "#**In regard the data cleaning aspect assuming that there is no null value ,no other factors and no incomplete data present in this data frame. further we are performing the ML algorithm.**\n",
        "\n",
        "We use Linear Regression here,\n",
        "**Linear Regression in Machine Learning analysis is important for evaluating data and establishing a definite relationship between two or more variables. Regression quantifies how the dependent variable changes as the independent variable itself take different values.**\n",
        "\n",
        "our 'the coefficient of correlation (r) is allready satisfied the condition for Linear Regression class for all four different relationships based on the different features ."
      ]
    },
    {
      "cell_type": "markdown",
      "metadata": {
        "id": "A8GGGe4XSi36"
      },
      "source": [
        "Splitted the data in X and y variables"
      ]
    },
    {
      "cell_type": "code",
      "execution_count": null,
      "metadata": {
        "id": "aYqL_zDiSnl-"
      },
      "outputs": [],
      "source": [
        "X=df.drop(['Temperature','city'],axis=1)\n",
        "y=df['Temperature']"
      ]
    },
    {
      "cell_type": "code",
      "execution_count": null,
      "metadata": {
        "colab": {
          "base_uri": "https://localhost:8080/",
          "height": 457
        },
        "id": "BibFqyZJSuql",
        "outputId": "e20363bb-361f-42e5-9986-11c77c69fd65"
      },
      "outputs": [
        {
          "data": {
            "text/html": [
              "\n",
              "\n",
              "  <div id=\"df-b5ba4839-7fcc-4fe8-a244-7685c8738575\">\n",
              "    <div class=\"colab-df-container\">\n",
              "      <div>\n",
              "<style scoped>\n",
              "    .dataframe tbody tr th:only-of-type {\n",
              "        vertical-align: middle;\n",
              "    }\n",
              "\n",
              "    .dataframe tbody tr th {\n",
              "        vertical-align: top;\n",
              "    }\n",
              "\n",
              "    .dataframe thead th {\n",
              "        text-align: right;\n",
              "    }\n",
              "</style>\n",
              "<table border=\"1\" class=\"dataframe\">\n",
              "  <thead>\n",
              "    <tr style=\"text-align: right;\">\n",
              "      <th></th>\n",
              "      <th>Humidity</th>\n",
              "      <th>Pressure</th>\n",
              "      <th>wind_speed</th>\n",
              "      <th>Cloudiness</th>\n",
              "    </tr>\n",
              "  </thead>\n",
              "  <tbody>\n",
              "    <tr>\n",
              "      <th>0</th>\n",
              "      <td>67</td>\n",
              "      <td>1000</td>\n",
              "      <td>11.27</td>\n",
              "      <td>100</td>\n",
              "    </tr>\n",
              "    <tr>\n",
              "      <th>1</th>\n",
              "      <td>70</td>\n",
              "      <td>1004</td>\n",
              "      <td>6.91</td>\n",
              "      <td>75</td>\n",
              "    </tr>\n",
              "    <tr>\n",
              "      <th>2</th>\n",
              "      <td>63</td>\n",
              "      <td>999</td>\n",
              "      <td>4.36</td>\n",
              "      <td>100</td>\n",
              "    </tr>\n",
              "    <tr>\n",
              "      <th>3</th>\n",
              "      <td>69</td>\n",
              "      <td>999</td>\n",
              "      <td>6.76</td>\n",
              "      <td>100</td>\n",
              "    </tr>\n",
              "    <tr>\n",
              "      <th>4</th>\n",
              "      <td>58</td>\n",
              "      <td>1000</td>\n",
              "      <td>7.49</td>\n",
              "      <td>100</td>\n",
              "    </tr>\n",
              "    <tr>\n",
              "      <th>5</th>\n",
              "      <td>75</td>\n",
              "      <td>1001</td>\n",
              "      <td>5.75</td>\n",
              "      <td>75</td>\n",
              "    </tr>\n",
              "    <tr>\n",
              "      <th>6</th>\n",
              "      <td>60</td>\n",
              "      <td>1015</td>\n",
              "      <td>11.50</td>\n",
              "      <td>40</td>\n",
              "    </tr>\n",
              "    <tr>\n",
              "      <th>7</th>\n",
              "      <td>62</td>\n",
              "      <td>1005</td>\n",
              "      <td>16.46</td>\n",
              "      <td>93</td>\n",
              "    </tr>\n",
              "    <tr>\n",
              "      <th>8</th>\n",
              "      <td>89</td>\n",
              "      <td>1007</td>\n",
              "      <td>10.36</td>\n",
              "      <td>75</td>\n",
              "    </tr>\n",
              "    <tr>\n",
              "      <th>9</th>\n",
              "      <td>94</td>\n",
              "      <td>1003</td>\n",
              "      <td>4.61</td>\n",
              "      <td>100</td>\n",
              "    </tr>\n",
              "    <tr>\n",
              "      <th>10</th>\n",
              "      <td>59</td>\n",
              "      <td>1003</td>\n",
              "      <td>19.98</td>\n",
              "      <td>59</td>\n",
              "    </tr>\n",
              "    <tr>\n",
              "      <th>11</th>\n",
              "      <td>49</td>\n",
              "      <td>999</td>\n",
              "      <td>8.34</td>\n",
              "      <td>55</td>\n",
              "    </tr>\n",
              "    <tr>\n",
              "      <th>12</th>\n",
              "      <td>75</td>\n",
              "      <td>1011</td>\n",
              "      <td>16.11</td>\n",
              "      <td>40</td>\n",
              "    </tr>\n",
              "  </tbody>\n",
              "</table>\n",
              "</div>\n",
              "      <button class=\"colab-df-convert\" onclick=\"convertToInteractive('df-b5ba4839-7fcc-4fe8-a244-7685c8738575')\"\n",
              "              title=\"Convert this dataframe to an interactive table.\"\n",
              "              style=\"display:none;\">\n",
              "\n",
              "  <svg xmlns=\"http://www.w3.org/2000/svg\" height=\"24px\"viewBox=\"0 0 24 24\"\n",
              "       width=\"24px\">\n",
              "    <path d=\"M0 0h24v24H0V0z\" fill=\"none\"/>\n",
              "    <path d=\"M18.56 5.44l.94 2.06.94-2.06 2.06-.94-2.06-.94-.94-2.06-.94 2.06-2.06.94zm-11 1L8.5 8.5l.94-2.06 2.06-.94-2.06-.94L8.5 2.5l-.94 2.06-2.06.94zm10 10l.94 2.06.94-2.06 2.06-.94-2.06-.94-.94-2.06-.94 2.06-2.06.94z\"/><path d=\"M17.41 7.96l-1.37-1.37c-.4-.4-.92-.59-1.43-.59-.52 0-1.04.2-1.43.59L10.3 9.45l-7.72 7.72c-.78.78-.78 2.05 0 2.83L4 21.41c.39.39.9.59 1.41.59.51 0 1.02-.2 1.41-.59l7.78-7.78 2.81-2.81c.8-.78.8-2.07 0-2.86zM5.41 20L4 18.59l7.72-7.72 1.47 1.35L5.41 20z\"/>\n",
              "  </svg>\n",
              "      </button>\n",
              "\n",
              "\n",
              "\n",
              "    <div id=\"df-32a43737-7130-4f33-a2ee-6c8a84a943f7\">\n",
              "      <button class=\"colab-df-quickchart\" onclick=\"quickchart('df-32a43737-7130-4f33-a2ee-6c8a84a943f7')\"\n",
              "              title=\"Suggest charts.\"\n",
              "              style=\"display:none;\">\n",
              "\n",
              "<svg xmlns=\"http://www.w3.org/2000/svg\" height=\"24px\"viewBox=\"0 0 24 24\"\n",
              "     width=\"24px\">\n",
              "    <g>\n",
              "        <path d=\"M19 3H5c-1.1 0-2 .9-2 2v14c0 1.1.9 2 2 2h14c1.1 0 2-.9 2-2V5c0-1.1-.9-2-2-2zM9 17H7v-7h2v7zm4 0h-2V7h2v10zm4 0h-2v-4h2v4z\"/>\n",
              "    </g>\n",
              "</svg>\n",
              "      </button>\n",
              "    </div>\n",
              "\n",
              "<style>\n",
              "  .colab-df-quickchart {\n",
              "    background-color: #E8F0FE;\n",
              "    border: none;\n",
              "    border-radius: 50%;\n",
              "    cursor: pointer;\n",
              "    display: none;\n",
              "    fill: #1967D2;\n",
              "    height: 32px;\n",
              "    padding: 0 0 0 0;\n",
              "    width: 32px;\n",
              "  }\n",
              "\n",
              "  .colab-df-quickchart:hover {\n",
              "    background-color: #E2EBFA;\n",
              "    box-shadow: 0px 1px 2px rgba(60, 64, 67, 0.3), 0px 1px 3px 1px rgba(60, 64, 67, 0.15);\n",
              "    fill: #174EA6;\n",
              "  }\n",
              "\n",
              "  [theme=dark] .colab-df-quickchart {\n",
              "    background-color: #3B4455;\n",
              "    fill: #D2E3FC;\n",
              "  }\n",
              "\n",
              "  [theme=dark] .colab-df-quickchart:hover {\n",
              "    background-color: #434B5C;\n",
              "    box-shadow: 0px 1px 3px 1px rgba(0, 0, 0, 0.15);\n",
              "    filter: drop-shadow(0px 1px 2px rgba(0, 0, 0, 0.3));\n",
              "    fill: #FFFFFF;\n",
              "  }\n",
              "</style>\n",
              "\n",
              "    <script>\n",
              "      async function quickchart(key) {\n",
              "        const containerElement = document.querySelector('#' + key);\n",
              "        const charts = await google.colab.kernel.invokeFunction(\n",
              "            'suggestCharts', [key], {});\n",
              "      }\n",
              "    </script>\n",
              "\n",
              "      <script>\n",
              "\n",
              "function displayQuickchartButton(domScope) {\n",
              "  let quickchartButtonEl =\n",
              "    domScope.querySelector('#df-32a43737-7130-4f33-a2ee-6c8a84a943f7 button.colab-df-quickchart');\n",
              "  quickchartButtonEl.style.display =\n",
              "    google.colab.kernel.accessAllowed ? 'block' : 'none';\n",
              "}\n",
              "\n",
              "        displayQuickchartButton(document);\n",
              "      </script>\n",
              "      <style>\n",
              "    .colab-df-container {\n",
              "      display:flex;\n",
              "      flex-wrap:wrap;\n",
              "      gap: 12px;\n",
              "    }\n",
              "\n",
              "    .colab-df-convert {\n",
              "      background-color: #E8F0FE;\n",
              "      border: none;\n",
              "      border-radius: 50%;\n",
              "      cursor: pointer;\n",
              "      display: none;\n",
              "      fill: #1967D2;\n",
              "      height: 32px;\n",
              "      padding: 0 0 0 0;\n",
              "      width: 32px;\n",
              "    }\n",
              "\n",
              "    .colab-df-convert:hover {\n",
              "      background-color: #E2EBFA;\n",
              "      box-shadow: 0px 1px 2px rgba(60, 64, 67, 0.3), 0px 1px 3px 1px rgba(60, 64, 67, 0.15);\n",
              "      fill: #174EA6;\n",
              "    }\n",
              "\n",
              "    [theme=dark] .colab-df-convert {\n",
              "      background-color: #3B4455;\n",
              "      fill: #D2E3FC;\n",
              "    }\n",
              "\n",
              "    [theme=dark] .colab-df-convert:hover {\n",
              "      background-color: #434B5C;\n",
              "      box-shadow: 0px 1px 3px 1px rgba(0, 0, 0, 0.15);\n",
              "      filter: drop-shadow(0px 1px 2px rgba(0, 0, 0, 0.3));\n",
              "      fill: #FFFFFF;\n",
              "    }\n",
              "  </style>\n",
              "\n",
              "      <script>\n",
              "        const buttonEl =\n",
              "          document.querySelector('#df-b5ba4839-7fcc-4fe8-a244-7685c8738575 button.colab-df-convert');\n",
              "        buttonEl.style.display =\n",
              "          google.colab.kernel.accessAllowed ? 'block' : 'none';\n",
              "\n",
              "        async function convertToInteractive(key) {\n",
              "          const element = document.querySelector('#df-b5ba4839-7fcc-4fe8-a244-7685c8738575');\n",
              "          const dataTable =\n",
              "            await google.colab.kernel.invokeFunction('convertToInteractive',\n",
              "                                                     [key], {});\n",
              "          if (!dataTable) return;\n",
              "\n",
              "          const docLinkHtml = 'Like what you see? Visit the ' +\n",
              "            '<a target=\"_blank\" href=https://colab.research.google.com/notebooks/data_table.ipynb>data table notebook</a>'\n",
              "            + ' to learn more about interactive tables.';\n",
              "          element.innerHTML = '';\n",
              "          dataTable['output_type'] = 'display_data';\n",
              "          await google.colab.output.renderOutput(dataTable, element);\n",
              "          const docLink = document.createElement('div');\n",
              "          docLink.innerHTML = docLinkHtml;\n",
              "          element.appendChild(docLink);\n",
              "        }\n",
              "      </script>\n",
              "    </div>\n",
              "  </div>\n"
            ],
            "text/plain": [
              "    Humidity  Pressure  wind_speed  Cloudiness\n",
              "0         67      1000       11.27         100\n",
              "1         70      1004        6.91          75\n",
              "2         63       999        4.36         100\n",
              "3         69       999        6.76         100\n",
              "4         58      1000        7.49         100\n",
              "5         75      1001        5.75          75\n",
              "6         60      1015       11.50          40\n",
              "7         62      1005       16.46          93\n",
              "8         89      1007       10.36          75\n",
              "9         94      1003        4.61         100\n",
              "10        59      1003       19.98          59\n",
              "11        49       999        8.34          55\n",
              "12        75      1011       16.11          40"
            ]
          },
          "execution_count": 14,
          "metadata": {},
          "output_type": "execute_result"
        }
      ],
      "source": [
        "X"
      ]
    },
    {
      "cell_type": "code",
      "execution_count": null,
      "metadata": {
        "colab": {
          "base_uri": "https://localhost:8080/"
        },
        "id": "e7dKD_6GSye2",
        "outputId": "c405e9f7-1b86-4e4e-c516-50b7a1568a57"
      },
      "outputs": [
        {
          "data": {
            "text/plain": [
              "0     89.96\n",
              "1     87.84\n",
              "2     92.64\n",
              "3     89.01\n",
              "4     92.34\n",
              "5     93.15\n",
              "6     82.96\n",
              "7     88.29\n",
              "8     79.03\n",
              "9     80.82\n",
              "10    88.65\n",
              "11    95.70\n",
              "12    89.96\n",
              "Name: Temperature, dtype: float64"
            ]
          },
          "execution_count": 15,
          "metadata": {},
          "output_type": "execute_result"
        }
      ],
      "source": [
        "y"
      ]
    },
    {
      "cell_type": "markdown",
      "metadata": {
        "id": "7Ndx-eSWS-KR"
      },
      "source": [
        "#**Split Data:**\n",
        "Spliting the dataset into training(80%) and testing(20%) sets. This allows us to train our model on one subset of data and evaluate its performance on another."
      ]
    },
    {
      "cell_type": "code",
      "execution_count": null,
      "metadata": {
        "id": "m2AGE7BBTTg8"
      },
      "outputs": [],
      "source": [
        "X_train, X_test, y_train, y_test = train_test_split(X, y, test_size=0.2, random_state=42)"
      ]
    },
    {
      "cell_type": "markdown",
      "metadata": {
        "id": "6q1kd-CzT4_4"
      },
      "source": [
        "#**Creating and Training the Linear Regression Model:**\n",
        "Now, creating an instance of the LinearRegression class, fitting it to the training data, and make predictions on the test data."
      ]
    },
    {
      "cell_type": "markdown",
      "metadata": {
        "id": "H-DDs7GRURRR"
      },
      "source": [
        "Using a LinearRegression model"
      ]
    },
    {
      "cell_type": "code",
      "execution_count": null,
      "metadata": {
        "id": "9RjXivGLUSnv"
      },
      "outputs": [],
      "source": [
        "model = LinearRegression()"
      ]
    },
    {
      "cell_type": "markdown",
      "metadata": {
        "id": "Q7Krex1tUWRV"
      },
      "source": [
        "Training the model on the training data"
      ]
    },
    {
      "cell_type": "code",
      "execution_count": null,
      "metadata": {
        "colab": {
          "base_uri": "https://localhost:8080/",
          "height": 74
        },
        "id": "SuJxRlWAUfYo",
        "outputId": "f1edfde9-f24e-4e73-9d67-d21a8871ffac"
      },
      "outputs": [
        {
          "data": {
            "text/html": [
              "<style>#sk-container-id-2 {color: black;background-color: white;}#sk-container-id-2 pre{padding: 0;}#sk-container-id-2 div.sk-toggleable {background-color: white;}#sk-container-id-2 label.sk-toggleable__label {cursor: pointer;display: block;width: 100%;margin-bottom: 0;padding: 0.3em;box-sizing: border-box;text-align: center;}#sk-container-id-2 label.sk-toggleable__label-arrow:before {content: \"▸\";float: left;margin-right: 0.25em;color: #696969;}#sk-container-id-2 label.sk-toggleable__label-arrow:hover:before {color: black;}#sk-container-id-2 div.sk-estimator:hover label.sk-toggleable__label-arrow:before {color: black;}#sk-container-id-2 div.sk-toggleable__content {max-height: 0;max-width: 0;overflow: hidden;text-align: left;background-color: #f0f8ff;}#sk-container-id-2 div.sk-toggleable__content pre {margin: 0.2em;color: black;border-radius: 0.25em;background-color: #f0f8ff;}#sk-container-id-2 input.sk-toggleable__control:checked~div.sk-toggleable__content {max-height: 200px;max-width: 100%;overflow: auto;}#sk-container-id-2 input.sk-toggleable__control:checked~label.sk-toggleable__label-arrow:before {content: \"▾\";}#sk-container-id-2 div.sk-estimator input.sk-toggleable__control:checked~label.sk-toggleable__label {background-color: #d4ebff;}#sk-container-id-2 div.sk-label input.sk-toggleable__control:checked~label.sk-toggleable__label {background-color: #d4ebff;}#sk-container-id-2 input.sk-hidden--visually {border: 0;clip: rect(1px 1px 1px 1px);clip: rect(1px, 1px, 1px, 1px);height: 1px;margin: -1px;overflow: hidden;padding: 0;position: absolute;width: 1px;}#sk-container-id-2 div.sk-estimator {font-family: monospace;background-color: #f0f8ff;border: 1px dotted black;border-radius: 0.25em;box-sizing: border-box;margin-bottom: 0.5em;}#sk-container-id-2 div.sk-estimator:hover {background-color: #d4ebff;}#sk-container-id-2 div.sk-parallel-item::after {content: \"\";width: 100%;border-bottom: 1px solid gray;flex-grow: 1;}#sk-container-id-2 div.sk-label:hover label.sk-toggleable__label {background-color: #d4ebff;}#sk-container-id-2 div.sk-serial::before {content: \"\";position: absolute;border-left: 1px solid gray;box-sizing: border-box;top: 0;bottom: 0;left: 50%;z-index: 0;}#sk-container-id-2 div.sk-serial {display: flex;flex-direction: column;align-items: center;background-color: white;padding-right: 0.2em;padding-left: 0.2em;position: relative;}#sk-container-id-2 div.sk-item {position: relative;z-index: 1;}#sk-container-id-2 div.sk-parallel {display: flex;align-items: stretch;justify-content: center;background-color: white;position: relative;}#sk-container-id-2 div.sk-item::before, #sk-container-id-2 div.sk-parallel-item::before {content: \"\";position: absolute;border-left: 1px solid gray;box-sizing: border-box;top: 0;bottom: 0;left: 50%;z-index: -1;}#sk-container-id-2 div.sk-parallel-item {display: flex;flex-direction: column;z-index: 1;position: relative;background-color: white;}#sk-container-id-2 div.sk-parallel-item:first-child::after {align-self: flex-end;width: 50%;}#sk-container-id-2 div.sk-parallel-item:last-child::after {align-self: flex-start;width: 50%;}#sk-container-id-2 div.sk-parallel-item:only-child::after {width: 0;}#sk-container-id-2 div.sk-dashed-wrapped {border: 1px dashed gray;margin: 0 0.4em 0.5em 0.4em;box-sizing: border-box;padding-bottom: 0.4em;background-color: white;}#sk-container-id-2 div.sk-label label {font-family: monospace;font-weight: bold;display: inline-block;line-height: 1.2em;}#sk-container-id-2 div.sk-label-container {text-align: center;}#sk-container-id-2 div.sk-container {/* jupyter's `normalize.less` sets `[hidden] { display: none; }` but bootstrap.min.css set `[hidden] { display: none !important; }` so we also need the `!important` here to be able to override the default hidden behavior on the sphinx rendered scikit-learn.org. See: https://github.com/scikit-learn/scikit-learn/issues/21755 */display: inline-block !important;position: relative;}#sk-container-id-2 div.sk-text-repr-fallback {display: none;}</style><div id=\"sk-container-id-2\" class=\"sk-top-container\"><div class=\"sk-text-repr-fallback\"><pre>LinearRegression()</pre><b>In a Jupyter environment, please rerun this cell to show the HTML representation or trust the notebook. <br />On GitHub, the HTML representation is unable to render, please try loading this page with nbviewer.org.</b></div><div class=\"sk-container\" hidden><div class=\"sk-item\"><div class=\"sk-estimator sk-toggleable\"><input class=\"sk-toggleable__control sk-hidden--visually\" id=\"sk-estimator-id-2\" type=\"checkbox\" checked><label for=\"sk-estimator-id-2\" class=\"sk-toggleable__label sk-toggleable__label-arrow\">LinearRegression</label><div class=\"sk-toggleable__content\"><pre>LinearRegression()</pre></div></div></div></div></div>"
            ],
            "text/plain": [
              "LinearRegression()"
            ]
          },
          "execution_count": 19,
          "metadata": {},
          "output_type": "execute_result"
        }
      ],
      "source": [
        "model.fit(X_train, y_train)"
      ]
    },
    {
      "cell_type": "code",
      "execution_count": null,
      "metadata": {
        "colab": {
          "base_uri": "https://localhost:8080/"
        },
        "id": "aqX3k2yGUqot",
        "outputId": "dbdacec0-34ae-4dfe-833d-9e5de422260a"
      },
      "outputs": [
        {
          "data": {
            "text/plain": [
              "8     79.03\n",
              "5     93.15\n",
              "2     92.64\n",
              "1     87.84\n",
              "12    89.96\n",
              "4     92.34\n",
              "7     88.29\n",
              "10    88.65\n",
              "3     89.01\n",
              "6     82.96\n",
              "Name: Temperature, dtype: float64"
            ]
          },
          "execution_count": 20,
          "metadata": {},
          "output_type": "execute_result"
        }
      ],
      "source": [
        "y_train"
      ]
    },
    {
      "cell_type": "code",
      "execution_count": null,
      "metadata": {
        "colab": {
          "base_uri": "https://localhost:8080/"
        },
        "id": "fHNPRPCyUtQr",
        "outputId": "2345d826-dbc3-41f0-824c-4e0dd5525a52"
      },
      "outputs": [
        {
          "data": {
            "text/plain": [
              "11    95.70\n",
              "9     80.82\n",
              "0     89.96\n",
              "Name: Temperature, dtype: float64"
            ]
          },
          "execution_count": 21,
          "metadata": {},
          "output_type": "execute_result"
        }
      ],
      "source": [
        "y_test"
      ]
    },
    {
      "cell_type": "code",
      "execution_count": null,
      "metadata": {
        "colab": {
          "base_uri": "https://localhost:8080/",
          "height": 363
        },
        "id": "lpRHen4-Uxva",
        "outputId": "f0898d0c-6ddd-451b-fa3e-ad6ed2f4de51"
      },
      "outputs": [
        {
          "data": {
            "text/html": [
              "\n",
              "\n",
              "  <div id=\"df-8ec244dd-f10a-4334-9fcd-8954a40940ed\">\n",
              "    <div class=\"colab-df-container\">\n",
              "      <div>\n",
              "<style scoped>\n",
              "    .dataframe tbody tr th:only-of-type {\n",
              "        vertical-align: middle;\n",
              "    }\n",
              "\n",
              "    .dataframe tbody tr th {\n",
              "        vertical-align: top;\n",
              "    }\n",
              "\n",
              "    .dataframe thead th {\n",
              "        text-align: right;\n",
              "    }\n",
              "</style>\n",
              "<table border=\"1\" class=\"dataframe\">\n",
              "  <thead>\n",
              "    <tr style=\"text-align: right;\">\n",
              "      <th></th>\n",
              "      <th>Humidity</th>\n",
              "      <th>Pressure</th>\n",
              "      <th>wind_speed</th>\n",
              "      <th>Cloudiness</th>\n",
              "    </tr>\n",
              "  </thead>\n",
              "  <tbody>\n",
              "    <tr>\n",
              "      <th>8</th>\n",
              "      <td>89</td>\n",
              "      <td>1007</td>\n",
              "      <td>10.36</td>\n",
              "      <td>75</td>\n",
              "    </tr>\n",
              "    <tr>\n",
              "      <th>5</th>\n",
              "      <td>75</td>\n",
              "      <td>1001</td>\n",
              "      <td>5.75</td>\n",
              "      <td>75</td>\n",
              "    </tr>\n",
              "    <tr>\n",
              "      <th>2</th>\n",
              "      <td>63</td>\n",
              "      <td>999</td>\n",
              "      <td>4.36</td>\n",
              "      <td>100</td>\n",
              "    </tr>\n",
              "    <tr>\n",
              "      <th>1</th>\n",
              "      <td>70</td>\n",
              "      <td>1004</td>\n",
              "      <td>6.91</td>\n",
              "      <td>75</td>\n",
              "    </tr>\n",
              "    <tr>\n",
              "      <th>12</th>\n",
              "      <td>75</td>\n",
              "      <td>1011</td>\n",
              "      <td>16.11</td>\n",
              "      <td>40</td>\n",
              "    </tr>\n",
              "    <tr>\n",
              "      <th>4</th>\n",
              "      <td>58</td>\n",
              "      <td>1000</td>\n",
              "      <td>7.49</td>\n",
              "      <td>100</td>\n",
              "    </tr>\n",
              "    <tr>\n",
              "      <th>7</th>\n",
              "      <td>62</td>\n",
              "      <td>1005</td>\n",
              "      <td>16.46</td>\n",
              "      <td>93</td>\n",
              "    </tr>\n",
              "    <tr>\n",
              "      <th>10</th>\n",
              "      <td>59</td>\n",
              "      <td>1003</td>\n",
              "      <td>19.98</td>\n",
              "      <td>59</td>\n",
              "    </tr>\n",
              "    <tr>\n",
              "      <th>3</th>\n",
              "      <td>69</td>\n",
              "      <td>999</td>\n",
              "      <td>6.76</td>\n",
              "      <td>100</td>\n",
              "    </tr>\n",
              "    <tr>\n",
              "      <th>6</th>\n",
              "      <td>60</td>\n",
              "      <td>1015</td>\n",
              "      <td>11.50</td>\n",
              "      <td>40</td>\n",
              "    </tr>\n",
              "  </tbody>\n",
              "</table>\n",
              "</div>\n",
              "      <button class=\"colab-df-convert\" onclick=\"convertToInteractive('df-8ec244dd-f10a-4334-9fcd-8954a40940ed')\"\n",
              "              title=\"Convert this dataframe to an interactive table.\"\n",
              "              style=\"display:none;\">\n",
              "\n",
              "  <svg xmlns=\"http://www.w3.org/2000/svg\" height=\"24px\"viewBox=\"0 0 24 24\"\n",
              "       width=\"24px\">\n",
              "    <path d=\"M0 0h24v24H0V0z\" fill=\"none\"/>\n",
              "    <path d=\"M18.56 5.44l.94 2.06.94-2.06 2.06-.94-2.06-.94-.94-2.06-.94 2.06-2.06.94zm-11 1L8.5 8.5l.94-2.06 2.06-.94-2.06-.94L8.5 2.5l-.94 2.06-2.06.94zm10 10l.94 2.06.94-2.06 2.06-.94-2.06-.94-.94-2.06-.94 2.06-2.06.94z\"/><path d=\"M17.41 7.96l-1.37-1.37c-.4-.4-.92-.59-1.43-.59-.52 0-1.04.2-1.43.59L10.3 9.45l-7.72 7.72c-.78.78-.78 2.05 0 2.83L4 21.41c.39.39.9.59 1.41.59.51 0 1.02-.2 1.41-.59l7.78-7.78 2.81-2.81c.8-.78.8-2.07 0-2.86zM5.41 20L4 18.59l7.72-7.72 1.47 1.35L5.41 20z\"/>\n",
              "  </svg>\n",
              "      </button>\n",
              "\n",
              "\n",
              "\n",
              "    <div id=\"df-983228b2-7f73-4fc5-96e0-3a79b6d7905c\">\n",
              "      <button class=\"colab-df-quickchart\" onclick=\"quickchart('df-983228b2-7f73-4fc5-96e0-3a79b6d7905c')\"\n",
              "              title=\"Suggest charts.\"\n",
              "              style=\"display:none;\">\n",
              "\n",
              "<svg xmlns=\"http://www.w3.org/2000/svg\" height=\"24px\"viewBox=\"0 0 24 24\"\n",
              "     width=\"24px\">\n",
              "    <g>\n",
              "        <path d=\"M19 3H5c-1.1 0-2 .9-2 2v14c0 1.1.9 2 2 2h14c1.1 0 2-.9 2-2V5c0-1.1-.9-2-2-2zM9 17H7v-7h2v7zm4 0h-2V7h2v10zm4 0h-2v-4h2v4z\"/>\n",
              "    </g>\n",
              "</svg>\n",
              "      </button>\n",
              "    </div>\n",
              "\n",
              "<style>\n",
              "  .colab-df-quickchart {\n",
              "    background-color: #E8F0FE;\n",
              "    border: none;\n",
              "    border-radius: 50%;\n",
              "    cursor: pointer;\n",
              "    display: none;\n",
              "    fill: #1967D2;\n",
              "    height: 32px;\n",
              "    padding: 0 0 0 0;\n",
              "    width: 32px;\n",
              "  }\n",
              "\n",
              "  .colab-df-quickchart:hover {\n",
              "    background-color: #E2EBFA;\n",
              "    box-shadow: 0px 1px 2px rgba(60, 64, 67, 0.3), 0px 1px 3px 1px rgba(60, 64, 67, 0.15);\n",
              "    fill: #174EA6;\n",
              "  }\n",
              "\n",
              "  [theme=dark] .colab-df-quickchart {\n",
              "    background-color: #3B4455;\n",
              "    fill: #D2E3FC;\n",
              "  }\n",
              "\n",
              "  [theme=dark] .colab-df-quickchart:hover {\n",
              "    background-color: #434B5C;\n",
              "    box-shadow: 0px 1px 3px 1px rgba(0, 0, 0, 0.15);\n",
              "    filter: drop-shadow(0px 1px 2px rgba(0, 0, 0, 0.3));\n",
              "    fill: #FFFFFF;\n",
              "  }\n",
              "</style>\n",
              "\n",
              "    <script>\n",
              "      async function quickchart(key) {\n",
              "        const containerElement = document.querySelector('#' + key);\n",
              "        const charts = await google.colab.kernel.invokeFunction(\n",
              "            'suggestCharts', [key], {});\n",
              "      }\n",
              "    </script>\n",
              "\n",
              "      <script>\n",
              "\n",
              "function displayQuickchartButton(domScope) {\n",
              "  let quickchartButtonEl =\n",
              "    domScope.querySelector('#df-983228b2-7f73-4fc5-96e0-3a79b6d7905c button.colab-df-quickchart');\n",
              "  quickchartButtonEl.style.display =\n",
              "    google.colab.kernel.accessAllowed ? 'block' : 'none';\n",
              "}\n",
              "\n",
              "        displayQuickchartButton(document);\n",
              "      </script>\n",
              "      <style>\n",
              "    .colab-df-container {\n",
              "      display:flex;\n",
              "      flex-wrap:wrap;\n",
              "      gap: 12px;\n",
              "    }\n",
              "\n",
              "    .colab-df-convert {\n",
              "      background-color: #E8F0FE;\n",
              "      border: none;\n",
              "      border-radius: 50%;\n",
              "      cursor: pointer;\n",
              "      display: none;\n",
              "      fill: #1967D2;\n",
              "      height: 32px;\n",
              "      padding: 0 0 0 0;\n",
              "      width: 32px;\n",
              "    }\n",
              "\n",
              "    .colab-df-convert:hover {\n",
              "      background-color: #E2EBFA;\n",
              "      box-shadow: 0px 1px 2px rgba(60, 64, 67, 0.3), 0px 1px 3px 1px rgba(60, 64, 67, 0.15);\n",
              "      fill: #174EA6;\n",
              "    }\n",
              "\n",
              "    [theme=dark] .colab-df-convert {\n",
              "      background-color: #3B4455;\n",
              "      fill: #D2E3FC;\n",
              "    }\n",
              "\n",
              "    [theme=dark] .colab-df-convert:hover {\n",
              "      background-color: #434B5C;\n",
              "      box-shadow: 0px 1px 3px 1px rgba(0, 0, 0, 0.15);\n",
              "      filter: drop-shadow(0px 1px 2px rgba(0, 0, 0, 0.3));\n",
              "      fill: #FFFFFF;\n",
              "    }\n",
              "  </style>\n",
              "\n",
              "      <script>\n",
              "        const buttonEl =\n",
              "          document.querySelector('#df-8ec244dd-f10a-4334-9fcd-8954a40940ed button.colab-df-convert');\n",
              "        buttonEl.style.display =\n",
              "          google.colab.kernel.accessAllowed ? 'block' : 'none';\n",
              "\n",
              "        async function convertToInteractive(key) {\n",
              "          const element = document.querySelector('#df-8ec244dd-f10a-4334-9fcd-8954a40940ed');\n",
              "          const dataTable =\n",
              "            await google.colab.kernel.invokeFunction('convertToInteractive',\n",
              "                                                     [key], {});\n",
              "          if (!dataTable) return;\n",
              "\n",
              "          const docLinkHtml = 'Like what you see? Visit the ' +\n",
              "            '<a target=\"_blank\" href=https://colab.research.google.com/notebooks/data_table.ipynb>data table notebook</a>'\n",
              "            + ' to learn more about interactive tables.';\n",
              "          element.innerHTML = '';\n",
              "          dataTable['output_type'] = 'display_data';\n",
              "          await google.colab.output.renderOutput(dataTable, element);\n",
              "          const docLink = document.createElement('div');\n",
              "          docLink.innerHTML = docLinkHtml;\n",
              "          element.appendChild(docLink);\n",
              "        }\n",
              "      </script>\n",
              "    </div>\n",
              "  </div>\n"
            ],
            "text/plain": [
              "    Humidity  Pressure  wind_speed  Cloudiness\n",
              "8         89      1007       10.36          75\n",
              "5         75      1001        5.75          75\n",
              "2         63       999        4.36         100\n",
              "1         70      1004        6.91          75\n",
              "12        75      1011       16.11          40\n",
              "4         58      1000        7.49         100\n",
              "7         62      1005       16.46          93\n",
              "10        59      1003       19.98          59\n",
              "3         69       999        6.76         100\n",
              "6         60      1015       11.50          40"
            ]
          },
          "execution_count": 22,
          "metadata": {},
          "output_type": "execute_result"
        }
      ],
      "source": [
        "X_train"
      ]
    },
    {
      "cell_type": "code",
      "execution_count": null,
      "metadata": {
        "colab": {
          "base_uri": "https://localhost:8080/",
          "height": 143
        },
        "id": "kdUxhdXjU2I7",
        "outputId": "8a4142de-1bbb-4125-89c1-f928ceee7e9c"
      },
      "outputs": [
        {
          "data": {
            "text/html": [
              "\n",
              "\n",
              "  <div id=\"df-ea6d4751-2e6a-4b03-83c8-dbe77aca91f8\">\n",
              "    <div class=\"colab-df-container\">\n",
              "      <div>\n",
              "<style scoped>\n",
              "    .dataframe tbody tr th:only-of-type {\n",
              "        vertical-align: middle;\n",
              "    }\n",
              "\n",
              "    .dataframe tbody tr th {\n",
              "        vertical-align: top;\n",
              "    }\n",
              "\n",
              "    .dataframe thead th {\n",
              "        text-align: right;\n",
              "    }\n",
              "</style>\n",
              "<table border=\"1\" class=\"dataframe\">\n",
              "  <thead>\n",
              "    <tr style=\"text-align: right;\">\n",
              "      <th></th>\n",
              "      <th>Humidity</th>\n",
              "      <th>Pressure</th>\n",
              "      <th>wind_speed</th>\n",
              "      <th>Cloudiness</th>\n",
              "    </tr>\n",
              "  </thead>\n",
              "  <tbody>\n",
              "    <tr>\n",
              "      <th>11</th>\n",
              "      <td>49</td>\n",
              "      <td>999</td>\n",
              "      <td>8.34</td>\n",
              "      <td>55</td>\n",
              "    </tr>\n",
              "    <tr>\n",
              "      <th>9</th>\n",
              "      <td>94</td>\n",
              "      <td>1003</td>\n",
              "      <td>4.61</td>\n",
              "      <td>100</td>\n",
              "    </tr>\n",
              "    <tr>\n",
              "      <th>0</th>\n",
              "      <td>67</td>\n",
              "      <td>1000</td>\n",
              "      <td>11.27</td>\n",
              "      <td>100</td>\n",
              "    </tr>\n",
              "  </tbody>\n",
              "</table>\n",
              "</div>\n",
              "      <button class=\"colab-df-convert\" onclick=\"convertToInteractive('df-ea6d4751-2e6a-4b03-83c8-dbe77aca91f8')\"\n",
              "              title=\"Convert this dataframe to an interactive table.\"\n",
              "              style=\"display:none;\">\n",
              "\n",
              "  <svg xmlns=\"http://www.w3.org/2000/svg\" height=\"24px\"viewBox=\"0 0 24 24\"\n",
              "       width=\"24px\">\n",
              "    <path d=\"M0 0h24v24H0V0z\" fill=\"none\"/>\n",
              "    <path d=\"M18.56 5.44l.94 2.06.94-2.06 2.06-.94-2.06-.94-.94-2.06-.94 2.06-2.06.94zm-11 1L8.5 8.5l.94-2.06 2.06-.94-2.06-.94L8.5 2.5l-.94 2.06-2.06.94zm10 10l.94 2.06.94-2.06 2.06-.94-2.06-.94-.94-2.06-.94 2.06-2.06.94z\"/><path d=\"M17.41 7.96l-1.37-1.37c-.4-.4-.92-.59-1.43-.59-.52 0-1.04.2-1.43.59L10.3 9.45l-7.72 7.72c-.78.78-.78 2.05 0 2.83L4 21.41c.39.39.9.59 1.41.59.51 0 1.02-.2 1.41-.59l7.78-7.78 2.81-2.81c.8-.78.8-2.07 0-2.86zM5.41 20L4 18.59l7.72-7.72 1.47 1.35L5.41 20z\"/>\n",
              "  </svg>\n",
              "      </button>\n",
              "\n",
              "\n",
              "\n",
              "    <div id=\"df-16086866-b1a3-4b74-82b5-b547e427029e\">\n",
              "      <button class=\"colab-df-quickchart\" onclick=\"quickchart('df-16086866-b1a3-4b74-82b5-b547e427029e')\"\n",
              "              title=\"Suggest charts.\"\n",
              "              style=\"display:none;\">\n",
              "\n",
              "<svg xmlns=\"http://www.w3.org/2000/svg\" height=\"24px\"viewBox=\"0 0 24 24\"\n",
              "     width=\"24px\">\n",
              "    <g>\n",
              "        <path d=\"M19 3H5c-1.1 0-2 .9-2 2v14c0 1.1.9 2 2 2h14c1.1 0 2-.9 2-2V5c0-1.1-.9-2-2-2zM9 17H7v-7h2v7zm4 0h-2V7h2v10zm4 0h-2v-4h2v4z\"/>\n",
              "    </g>\n",
              "</svg>\n",
              "      </button>\n",
              "    </div>\n",
              "\n",
              "<style>\n",
              "  .colab-df-quickchart {\n",
              "    background-color: #E8F0FE;\n",
              "    border: none;\n",
              "    border-radius: 50%;\n",
              "    cursor: pointer;\n",
              "    display: none;\n",
              "    fill: #1967D2;\n",
              "    height: 32px;\n",
              "    padding: 0 0 0 0;\n",
              "    width: 32px;\n",
              "  }\n",
              "\n",
              "  .colab-df-quickchart:hover {\n",
              "    background-color: #E2EBFA;\n",
              "    box-shadow: 0px 1px 2px rgba(60, 64, 67, 0.3), 0px 1px 3px 1px rgba(60, 64, 67, 0.15);\n",
              "    fill: #174EA6;\n",
              "  }\n",
              "\n",
              "  [theme=dark] .colab-df-quickchart {\n",
              "    background-color: #3B4455;\n",
              "    fill: #D2E3FC;\n",
              "  }\n",
              "\n",
              "  [theme=dark] .colab-df-quickchart:hover {\n",
              "    background-color: #434B5C;\n",
              "    box-shadow: 0px 1px 3px 1px rgba(0, 0, 0, 0.15);\n",
              "    filter: drop-shadow(0px 1px 2px rgba(0, 0, 0, 0.3));\n",
              "    fill: #FFFFFF;\n",
              "  }\n",
              "</style>\n",
              "\n",
              "    <script>\n",
              "      async function quickchart(key) {\n",
              "        const containerElement = document.querySelector('#' + key);\n",
              "        const charts = await google.colab.kernel.invokeFunction(\n",
              "            'suggestCharts', [key], {});\n",
              "      }\n",
              "    </script>\n",
              "\n",
              "      <script>\n",
              "\n",
              "function displayQuickchartButton(domScope) {\n",
              "  let quickchartButtonEl =\n",
              "    domScope.querySelector('#df-16086866-b1a3-4b74-82b5-b547e427029e button.colab-df-quickchart');\n",
              "  quickchartButtonEl.style.display =\n",
              "    google.colab.kernel.accessAllowed ? 'block' : 'none';\n",
              "}\n",
              "\n",
              "        displayQuickchartButton(document);\n",
              "      </script>\n",
              "      <style>\n",
              "    .colab-df-container {\n",
              "      display:flex;\n",
              "      flex-wrap:wrap;\n",
              "      gap: 12px;\n",
              "    }\n",
              "\n",
              "    .colab-df-convert {\n",
              "      background-color: #E8F0FE;\n",
              "      border: none;\n",
              "      border-radius: 50%;\n",
              "      cursor: pointer;\n",
              "      display: none;\n",
              "      fill: #1967D2;\n",
              "      height: 32px;\n",
              "      padding: 0 0 0 0;\n",
              "      width: 32px;\n",
              "    }\n",
              "\n",
              "    .colab-df-convert:hover {\n",
              "      background-color: #E2EBFA;\n",
              "      box-shadow: 0px 1px 2px rgba(60, 64, 67, 0.3), 0px 1px 3px 1px rgba(60, 64, 67, 0.15);\n",
              "      fill: #174EA6;\n",
              "    }\n",
              "\n",
              "    [theme=dark] .colab-df-convert {\n",
              "      background-color: #3B4455;\n",
              "      fill: #D2E3FC;\n",
              "    }\n",
              "\n",
              "    [theme=dark] .colab-df-convert:hover {\n",
              "      background-color: #434B5C;\n",
              "      box-shadow: 0px 1px 3px 1px rgba(0, 0, 0, 0.15);\n",
              "      filter: drop-shadow(0px 1px 2px rgba(0, 0, 0, 0.3));\n",
              "      fill: #FFFFFF;\n",
              "    }\n",
              "  </style>\n",
              "\n",
              "      <script>\n",
              "        const buttonEl =\n",
              "          document.querySelector('#df-ea6d4751-2e6a-4b03-83c8-dbe77aca91f8 button.colab-df-convert');\n",
              "        buttonEl.style.display =\n",
              "          google.colab.kernel.accessAllowed ? 'block' : 'none';\n",
              "\n",
              "        async function convertToInteractive(key) {\n",
              "          const element = document.querySelector('#df-ea6d4751-2e6a-4b03-83c8-dbe77aca91f8');\n",
              "          const dataTable =\n",
              "            await google.colab.kernel.invokeFunction('convertToInteractive',\n",
              "                                                     [key], {});\n",
              "          if (!dataTable) return;\n",
              "\n",
              "          const docLinkHtml = 'Like what you see? Visit the ' +\n",
              "            '<a target=\"_blank\" href=https://colab.research.google.com/notebooks/data_table.ipynb>data table notebook</a>'\n",
              "            + ' to learn more about interactive tables.';\n",
              "          element.innerHTML = '';\n",
              "          dataTable['output_type'] = 'display_data';\n",
              "          await google.colab.output.renderOutput(dataTable, element);\n",
              "          const docLink = document.createElement('div');\n",
              "          docLink.innerHTML = docLinkHtml;\n",
              "          element.appendChild(docLink);\n",
              "        }\n",
              "      </script>\n",
              "    </div>\n",
              "  </div>\n"
            ],
            "text/plain": [
              "    Humidity  Pressure  wind_speed  Cloudiness\n",
              "11        49       999        8.34          55\n",
              "9         94      1003        4.61         100\n",
              "0         67      1000       11.27         100"
            ]
          },
          "execution_count": 23,
          "metadata": {},
          "output_type": "execute_result"
        }
      ],
      "source": [
        "X_test"
      ]
    },
    {
      "cell_type": "markdown",
      "metadata": {
        "id": "BOy7ti8wU-Rw"
      },
      "source": [
        "Making predictions on the test data"
      ]
    },
    {
      "cell_type": "code",
      "execution_count": null,
      "metadata": {
        "colab": {
          "base_uri": "https://localhost:8080/"
        },
        "id": "s6dEKdS3VAyr",
        "outputId": "45ff4524-0777-4b33-c1d5-8191544332fd"
      },
      "outputs": [
        {
          "data": {
            "text/plain": [
              "array([99.54789415, 82.53787425, 89.227091  ])"
            ]
          },
          "execution_count": 24,
          "metadata": {},
          "output_type": "execute_result"
        }
      ],
      "source": [
        "y_pred = model.predict(X_test)\n",
        "y_pred"
      ]
    },
    {
      "cell_type": "markdown",
      "metadata": {
        "id": "9iHodpPYVYFT"
      },
      "source": [
        "#**Evaluate Model Performance:**\n",
        "Calculating metrics such as Mean Squared Error (MSE) and R-squared (R2) to evaluate the performance of your model."
      ]
    },
    {
      "cell_type": "code",
      "execution_count": null,
      "metadata": {
        "id": "8FpG8C1iVf5k"
      },
      "outputs": [],
      "source": [
        "mse = mean_squared_error(y_test, y_pred)\n",
        "r2 = r2_score(y_test, y_pred)"
      ]
    },
    {
      "cell_type": "code",
      "execution_count": null,
      "metadata": {
        "colab": {
          "base_uri": "https://localhost:8080/"
        },
        "id": "pyKEOB4SVr4g",
        "outputId": "78e04ef9-a531-465f-87b4-6da1b6b8a4a3"
      },
      "outputs": [
        {
          "name": "stdout",
          "output_type": "stream",
          "text": [
            "Mean Squared Error: 6.098178963811486\n",
            "R-squared: 0.837575167817189\n"
          ]
        }
      ],
      "source": [
        "print(f'Mean Squared Error: {mse}')\n",
        "print(f'R-squared: {r2}')"
      ]
    },
    {
      "cell_type": "markdown",
      "metadata": {
        "id": "KC_vey3TWCSo"
      },
      "source": [
        "#**Use the Model for Prediction:**\n",
        "Once you're satisfied with your model's performance, you can use it to make predictions on new data:"
      ]
    },
    {
      "cell_type": "markdown",
      "metadata": {
        "id": "eWc1kWPUXq2T"
      },
      "source": [
        "Example new data for prediction by user input"
      ]
    },
    {
      "cell_type": "code",
      "execution_count": null,
      "metadata": {
        "colab": {
          "base_uri": "https://localhost:8080/"
        },
        "id": "JQgTh6Lk1s5O",
        "outputId": "3eee871a-e13b-4191-e0df-8b21c47cc01b"
      },
      "outputs": [
        {
          "name": "stdout",
          "output_type": "stream",
          "text": [
            "Humidity in percentage:73\n",
            "Pressure in millibars(mb):1000\n",
            "wind_speed in meters per second (m/s):10.5\n",
            "Cloudiness in percentage:95\n"
          ]
        }
      ],
      "source": [
        "H= int(input(\"Humidity in percentage:\"))\n",
        "P=int(input(\"Pressure in millibars(mb):\"))\n",
        "ws=float(input(\"wind_speed in meters per second (m/s):\"))\n",
        "C=int(input(\"Cloudiness in percentage:\"))"
      ]
    },
    {
      "cell_type": "code",
      "execution_count": null,
      "metadata": {
        "id": "mXS55gzAWGht"
      },
      "outputs": [],
      "source": [
        "new_test_data = np.array([[H,P,ws,C]])"
      ]
    },
    {
      "cell_type": "markdown",
      "metadata": {
        "id": "4vB2NmbmXnWF"
      },
      "source": [
        "Making a prediction using the trained model"
      ]
    },
    {
      "cell_type": "code",
      "execution_count": null,
      "metadata": {
        "colab": {
          "base_uri": "https://localhost:8080/"
        },
        "id": "wl9prctvXa9G",
        "outputId": "695385b1-9b59-43d6-bf42-784d41cef5c4"
      },
      "outputs": [
        {
          "name": "stderr",
          "output_type": "stream",
          "text": [
            "/usr/local/lib/python3.10/dist-packages/sklearn/base.py:439: UserWarning: X does not have valid feature names, but LinearRegression was fitted with feature names\n",
            "  warnings.warn(\n"
          ]
        }
      ],
      "source": [
        "predicted_temperature = model.predict(new_test_data)"
      ]
    },
    {
      "cell_type": "markdown",
      "metadata": {
        "id": "tRqeZKpP-CgV"
      },
      "source": [
        "#**AI Output :**"
      ]
    },
    {
      "cell_type": "code",
      "execution_count": null,
      "metadata": {
        "colab": {
          "base_uri": "https://localhost:8080/"
        },
        "id": "FvIrtvCCX_xX",
        "outputId": "c01b67be-8e11-4bbc-bc69-55aa974cf6ff"
      },
      "outputs": [
        {
          "name": "stdout",
          "output_type": "stream",
          "text": [
            "Predicted Temperature in Celsius :  32.0\n"
          ]
        }
      ],
      "source": [
        "A=predicted_temperature[0]\n",
        "fahrenheit=A\n",
        "celsius = ((fahrenheit-32)*5)/9\n",
        "Z=round(celsius,0)\n",
        "print(\"Predicted Temperature in Celsius : \",Z)"
      ]
    }
  ],
  "metadata": {
    "colab": {
      "provenance": []
    },
    "kernelspec": {
      "display_name": "Python 3",
      "name": "python3"
    },
    "language_info": {
      "name": "python"
    }
  },
  "nbformat": 4,
  "nbformat_minor": 0
}
